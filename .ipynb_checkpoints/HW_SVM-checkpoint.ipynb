{
 "cells": [
  {
   "cell_type": "code",
   "execution_count": 1,
   "id": "ace0582b",
   "metadata": {},
   "outputs": [],
   "source": [
    "import numpy as np\n",
    "import pandas as pd\n",
    "import matplotlib.pyplot as plt\n",
    "from sklearn.metrics import accuracy_score"
   ]
  },
  {
   "cell_type": "code",
   "execution_count": 2,
   "id": "2ca58c6e",
   "metadata": {},
   "outputs": [],
   "source": [
    "data_1 = pd.read_csv('chips.csv')"
   ]
  },
  {
   "cell_type": "code",
   "execution_count": 3,
   "id": "05154cfe",
   "metadata": {},
   "outputs": [],
   "source": [
    "data_2 = pd.read_csv('geyser.csv')"
   ]
  },
  {
   "cell_type": "code",
   "execution_count": 4,
   "id": "3d8900ac",
   "metadata": {},
   "outputs": [],
   "source": [
    "#data_2['class'].unique()"
   ]
  },
  {
   "cell_type": "code",
   "execution_count": 5,
   "id": "56b100ff",
   "metadata": {},
   "outputs": [],
   "source": [
    "X_1 = data_1.iloc[:,:-1].values\n",
    "y_1 = data_1.iloc[:,-1:].values\n",
    "X_2 = data_2.iloc[:,:-1].values\n",
    "y_2 = data_2.iloc[:,-1:].values"
   ]
  },
  {
   "cell_type": "code",
   "execution_count": 6,
   "id": "06029b68",
   "metadata": {},
   "outputs": [],
   "source": [
    "y_1 = np.where( y_1=='P', 1, -1)\n",
    "y_2 = np.where( y_2=='P', 1, -1)"
   ]
  },
  {
   "cell_type": "code",
   "execution_count": 7,
   "id": "776192e9",
   "metadata": {},
   "outputs": [],
   "source": [
    "from sklearn.preprocessing import StandardScaler\n",
    "scaler = StandardScaler()\n",
    "X_1 = scaler.fit_transform(X_1)\n",
    "X_2 = scaler.fit_transform(X_2)"
   ]
  },
  {
   "cell_type": "code",
   "execution_count": 8,
   "id": "83a4cd41",
   "metadata": {},
   "outputs": [
    {
     "name": "stdout",
     "output_type": "stream",
     "text": [
      "Wall time: 1.9 s\n"
     ]
    },
    {
     "data": {
      "text/plain": [
       "{'C': 0.5}"
      ]
     },
     "execution_count": 8,
     "metadata": {},
     "output_type": "execute_result"
    }
   ],
   "source": [
    "%%time\n",
    "from sklearn.svm import SVC\n",
    "from sklearn.model_selection import GridSearchCV\n",
    "param_grid = {'C': np.array([0.05,0.1,0.5,1.0,5.0,10.0,50.0,100.0])}\n",
    "svm = SVC(kernel='linear')\n",
    "clf = GridSearchCV(svm, param_grid, n_jobs=16)\n",
    "clf.fit(X_1, np.ravel(y_1))\n",
    "param_1_linear = clf.best_params_\n",
    "param_1_linear"
   ]
  },
  {
   "cell_type": "code",
   "execution_count": 9,
   "id": "df25e64e",
   "metadata": {},
   "outputs": [
    {
     "data": {
      "text/plain": [
       "0.5"
      ]
     },
     "execution_count": 9,
     "metadata": {},
     "output_type": "execute_result"
    }
   ],
   "source": [
    "from sklearn.metrics import accuracy_score\n",
    "score_test = []\n",
    "C_test = []\n",
    "for i in ([0.05,0.1,0.5,1.0,5.0,10.0,50.0,100.0]):\n",
    "    svm = SVC(kernel='linear', C = i)\n",
    "    svm.fit(X_1, np.ravel(y_1))\n",
    "    y_pred = svm.predict(X_1)\n",
    "    score_test.append(accuracy_score(y_1, y_pred))\n",
    "    C_test.append(i)\n",
    "C_test[score_test.index(max(score_test))]"
   ]
  },
  {
   "cell_type": "code",
   "execution_count": 10,
   "id": "bb37424c",
   "metadata": {},
   "outputs": [
    {
     "data": {
      "text/plain": [
       "{'C': 0.5}"
      ]
     },
     "execution_count": 10,
     "metadata": {},
     "output_type": "execute_result"
    }
   ],
   "source": [
    "param_1_linear"
   ]
  },
  {
   "cell_type": "code",
   "execution_count": 11,
   "id": "1dec2fbc",
   "metadata": {},
   "outputs": [],
   "source": [
    "from mlxtend.plotting import plot_decision_regions"
   ]
  },
  {
   "cell_type": "code",
   "execution_count": 12,
   "id": "fc52e57e",
   "metadata": {},
   "outputs": [
    {
     "data": {
      "text/plain": [
       "SVC(C=0.5, kernel='linear')"
      ]
     },
     "execution_count": 12,
     "metadata": {},
     "output_type": "execute_result"
    }
   ],
   "source": [
    "svm_1_linear = SVC(kernel='linear', **param_1_linear)\n",
    "svm_1_linear.fit(X_1, np.ravel(y_1))"
   ]
  },
  {
   "cell_type": "code",
   "execution_count": 13,
   "id": "16c99898",
   "metadata": {},
   "outputs": [
    {
     "name": "stdout",
     "output_type": "stream",
     "text": [
      "acuracy_linear_chips: 0.5508474576271186\n"
     ]
    }
   ],
   "source": [
    "y_pred = svm_1_linear.predict(X_1)\n",
    "print('acuracy_linear_chips:', accuracy_score(y_1, y_pred))"
   ]
  },
  {
   "cell_type": "code",
   "execution_count": 14,
   "id": "204ec892",
   "metadata": {},
   "outputs": [
    {
     "data": {
      "image/png": "[encoded data removed]",
      "text/plain": [
       "<Figure size 432x288 with 1 Axes>"
      ]
     },
     "metadata": {
      "needs_background": "light"
     },
     "output_type": "display_data"
    }
   ],
   "source": [
    "plot_decision_regions(X_1, np.ravel(y_1), clf=svm_1_linear)\n",
    "plt.legend(loc='upper left')\n",
    "plt.tight_layout()\n",
    "plt.title(\"Linear_chips\")\n",
    "plt.show()"
   ]
  },
  {
   "cell_type": "code",
   "execution_count": 28,
   "id": "a714a1a9",
   "metadata": {},
   "outputs": [
    {
     "name": "stdout",
     "output_type": "stream",
     "text": [
      "Wall time: 188 ms\n"
     ]
    }
   ],
   "source": [
    "%%time\n",
    "from sklearn.svm import SVC\n",
    "from sklearn.model_selection import GridSearchCV\n",
    "param_grid = {'C': np.array([0.05,0.1,0.5,1.0,5.0,10.0,50.0,100.0]), 'degree': np.array([2, 3, 4, 5])}\n",
    "svm = SVC(kernel='poly')\n",
    "clf = GridSearchCV(svm, param_grid, n_jobs=16)#, cv=[(slice(None), slice(None))])\n",
    "clf.fit(X_1, np.ravel(y_1))\n",
    "param_1_poly = clf.best_params_"
   ]
  },
  {
   "cell_type": "code",
   "execution_count": 29,
   "id": "91a07b54",
   "metadata": {},
   "outputs": [
    {
     "data": {
      "text/plain": [
       "{'C': 5.0, 'degree': 2}"
      ]
     },
     "execution_count": 29,
     "metadata": {},
     "output_type": "execute_result"
    }
   ],
   "source": [
    "param_1_poly"
   ]
  },
  {
   "cell_type": "code",
   "execution_count": 30,
   "id": "982ba2f5",
   "metadata": {},
   "outputs": [
    {
     "data": {
      "text/plain": [
       "SVC(C=5.0, degree=2, kernel='poly')"
      ]
     },
     "execution_count": 30,
     "metadata": {},
     "output_type": "execute_result"
    }
   ],
   "source": [
    "svm_1_poly = SVC(kernel='poly', **param_1_poly)\n",
    "svm_1_poly.fit(X_1, np.ravel(y_1))"
   ]
  },
  {
   "cell_type": "code",
   "execution_count": 31,
   "id": "2cefe4e6",
   "metadata": {},
   "outputs": [
    {
     "name": "stdout",
     "output_type": "stream",
     "text": [
      "acuracy_poly_chips: 0.8220338983050848\n"
     ]
    }
   ],
   "source": [
    "y_pred = svm_1_poly.predict(X_1)\n",
    "print('acuracy_poly_chips:', accuracy_score(y_1, y_pred))"
   ]
  },
  {
   "cell_type": "code",
   "execution_count": 32,
   "id": "b7fb7dde",
   "metadata": {},
   "outputs": [
    {
     "data": {
      "image/png": "[encoded data removed]",
      "text/plain": [
       "<Figure size 432x288 with 1 Axes>"
      ]
     },
     "metadata": {
      "needs_background": "light"
     },
     "output_type": "display_data"
    }
   ],
   "source": [
    "plot_decision_regions(X_1, np.ravel(y_1), clf=svm_1_poly)\n",
    "plt.legend(loc='upper left')\n",
    "plt.title(\"Polynomial_chips\")\n",
    "plt.tight_layout()\n",
    "plt.show()"
   ]
  },
  {
   "cell_type": "code",
   "execution_count": 33,
   "id": "111d3f31",
   "metadata": {},
   "outputs": [
    {
     "name": "stdout",
     "output_type": "stream",
     "text": [
      "Wall time: 166 ms\n"
     ]
    }
   ],
   "source": [
    "%%time\n",
    "from sklearn.svm import SVC\n",
    "from sklearn.model_selection import GridSearchCV\n",
    "param_grid = {'C': np.array([0.05,0.1,0.5,1.0,5.0,10.0,50.0,100.0]), 'gamma': np.array([1, 2, 3, 4, 5])}\n",
    "svm = SVC(kernel='rbf')\n",
    "clf = GridSearchCV(svm, param_grid, n_jobs=16)#, cv=[(slice(None), slice(None))])\n",
    "clf.fit(X_1, np.ravel(y_1))\n",
    "param_1_gauss = clf.best_params_"
   ]
  },
  {
   "cell_type": "code",
   "execution_count": 34,
   "id": "39d1e26a",
   "metadata": {},
   "outputs": [
    {
     "data": {
      "text/plain": [
       "{'C': 5.0, 'gamma': 1}"
      ]
     },
     "execution_count": 34,
     "metadata": {},
     "output_type": "execute_result"
    }
   ],
   "source": [
    "param_1_gauss"
   ]
  },
  {
   "cell_type": "code",
   "execution_count": 35,
   "id": "370b3d8d",
   "metadata": {},
   "outputs": [
    {
     "data": {
      "text/plain": [
       "SVC(C=5.0, gamma=1)"
      ]
     },
     "execution_count": 35,
     "metadata": {},
     "output_type": "execute_result"
    }
   ],
   "source": [
    "svm_1_gauss = SVC(kernel='rbf', **param_1_gauss)\n",
    "svm_1_gauss.fit(X_1, np.ravel(y_1))"
   ]
  },
  {
   "cell_type": "code",
   "execution_count": 36,
   "id": "7ff7f5ad",
   "metadata": {},
   "outputs": [
    {
     "name": "stdout",
     "output_type": "stream",
     "text": [
      "acuracy_gauss_chips: 0.847457627118644\n"
     ]
    }
   ],
   "source": [
    "y_pred = svm_1_gauss.predict(X_1)\n",
    "print('acuracy_gauss_chips:', accuracy_score(y_1, y_pred))"
   ]
  },
  {
   "cell_type": "code",
   "execution_count": 37,
   "id": "cd1f6d21",
   "metadata": {},
   "outputs": [
    {
     "data": {
      "image/png": "[encoded data removed]",
      "text/plain": [
       "<Figure size 432x288 with 1 Axes>"
      ]
     },
     "metadata": {
      "needs_background": "light"
     },
     "output_type": "display_data"
    }
   ],
   "source": [
    "plot_decision_regions(X_1, np.ravel(y_1), clf=svm_1_gauss)\n",
    "plt.legend(loc='upper left')\n",
    "plt.title(\"Gaussian_chips\")\n",
    "plt.tight_layout()\n",
    "plt.show()"
   ]
  },
  {
   "cell_type": "code",
   "execution_count": 114,
   "id": "de574d74",
   "metadata": {},
   "outputs": [],
   "source": [
    "param_grid = {'C': np.array([0.05,0.1,0.5,1.0,5.0,10.0,50.0,100.0])}\n",
    "svm = SVC(kernel='linear')\n",
    "clf = GridSearchCV(svm, param_grid, n_jobs=16, cv=[(slice(None), slice(None))])\n",
    "clf.fit(X_2, np.ravel(y_2))\n",
    "param_2_linear = clf.best_params_"
   ]
  },
  {
   "cell_type": "code",
   "execution_count": 115,
   "id": "c2257532",
   "metadata": {},
   "outputs": [
    {
     "data": {
      "text/plain": [
       "SVC(C=0.5, kernel='linear')"
      ]
     },
     "execution_count": 115,
     "metadata": {},
     "output_type": "execute_result"
    }
   ],
   "source": [
    "svm_2_linear = SVC(kernel='linear', **param_2_linear)\n",
    "svm_2_linear.fit(X_2, np.ravel(y_2))"
   ]
  },
  {
   "cell_type": "code",
   "execution_count": 116,
   "id": "f658f806",
   "metadata": {},
   "outputs": [
    {
     "name": "stdout",
     "output_type": "stream",
     "text": [
      "acuracy_linear_chips: 0.9054054054054054\n"
     ]
    }
   ],
   "source": [
    "y_pred = svm_2_linear.predict(X_2)\n",
    "print('acuracy_linear_chips:', accuracy_score(y_2, y_pred))"
   ]
  },
  {
   "cell_type": "code",
   "execution_count": 117,
   "id": "9b6e7620",
   "metadata": {},
   "outputs": [
    {
     "data": {
      "image/png": "[encoded data removed]",
      "text/plain": [
       "<Figure size 432x288 with 1 Axes>"
      ]
     },
     "metadata": {
      "needs_background": "light"
     },
     "output_type": "display_data"
    }
   ],
   "source": [
    "plot_decision_regions(X_2, np.ravel(y_2), clf=svm_2_linear)\n",
    "plt.legend(loc='upper left')\n",
    "plt.tight_layout()\n",
    "plt.title(\"Linear_geyser\")\n",
    "plt.show()"
   ]
  },
  {
   "cell_type": "code",
   "execution_count": 176,
   "id": "c2fc10bd",
   "metadata": {},
   "outputs": [
    {
     "name": "stdout",
     "output_type": "stream",
     "text": [
      "Wall time: 79 ms\n"
     ]
    }
   ],
   "source": [
    "%%time\n",
    "from sklearn.svm import SVC\n",
    "from sklearn.model_selection import GridSearchCV\n",
    "param_grid = {'C': np.array([0.05,0.1,0.5,1.0,5.0,10.0,50.0,100.0]), 'degree': np.array([2, 3, 4, 5])}\n",
    "svm = SVC(kernel='poly')\n",
    "clf = GridSearchCV(svm, param_grid, n_jobs=16, cv=[(slice(None), slice(None))])\n",
    "clf.fit(X_2, np.ravel(y_2))\n",
    "param_2_poly = clf.best_params_"
   ]
  },
  {
   "cell_type": "code",
   "execution_count": 177,
   "id": "71016aac",
   "metadata": {},
   "outputs": [
    {
     "data": {
      "text/plain": [
       "{'C': 1.0, 'degree': 3}"
      ]
     },
     "execution_count": 177,
     "metadata": {},
     "output_type": "execute_result"
    }
   ],
   "source": [
    "param_2_poly"
   ]
  },
  {
   "cell_type": "code",
   "execution_count": 178,
   "id": "f99a9292",
   "metadata": {},
   "outputs": [
    {
     "data": {
      "text/plain": [
       "SVC(kernel='poly')"
      ]
     },
     "execution_count": 178,
     "metadata": {},
     "output_type": "execute_result"
    }
   ],
   "source": [
    "svm_2_poly = SVC(kernel='poly', **param_2_poly)\n",
    "svm_2_poly.fit(X_2, np.ravel(y_2))"
   ]
  },
  {
   "cell_type": "code",
   "execution_count": 179,
   "id": "3a27cfdc",
   "metadata": {},
   "outputs": [
    {
     "name": "stdout",
     "output_type": "stream",
     "text": [
      "acuracy_poly_geyser: 0.8873873873873874\n"
     ]
    }
   ],
   "source": [
    "y_pred = svm_2_poly.predict(X_2)\n",
    "print('acuracy_poly_geyser:', accuracy_score(y_2, y_pred))"
   ]
  },
  {
   "cell_type": "code",
   "execution_count": 180,
   "id": "62f756b3",
   "metadata": {},
   "outputs": [
    {
     "data": {
      "image/png": "[encoded data removed]",
      "text/plain": [
       "<Figure size 432x288 with 1 Axes>"
      ]
     },
     "metadata": {
      "needs_background": "light"
     },
     "output_type": "display_data"
    }
   ],
   "source": [
    "plot_decision_regions(X_2, np.ravel(y_2), clf=svm_2_poly)\n",
    "plt.legend(loc='upper left')\n",
    "plt.title(\"Polynomial_geyser\")\n",
    "plt.tight_layout()\n",
    "plt.show()"
   ]
  },
  {
   "cell_type": "code",
   "execution_count": 181,
   "id": "135fdd38",
   "metadata": {},
   "outputs": [
    {
     "name": "stdout",
     "output_type": "stream",
     "text": [
      "Wall time: 94.3 ms\n"
     ]
    }
   ],
   "source": [
    "%%time\n",
    "from sklearn.svm import SVC\n",
    "from sklearn.model_selection import GridSearchCV\n",
    "param_grid = {'C': np.array([0.05,0.1,0.5,1.0,5.0,10.0,50.0,100.0]), 'gamma': np.array([1, 2, 3, 4, 5])}\n",
    "svm = SVC(kernel='rbf')\n",
    "clf = GridSearchCV(svm, param_grid, n_jobs=16, cv=[(slice(None), slice(None))])\n",
    "clf.fit(X_2, np.ravel(y_2))\n",
    "param_2_gauss = clf.best_params_"
   ]
  },
  {
   "cell_type": "code",
   "execution_count": 182,
   "id": "1b093edd",
   "metadata": {},
   "outputs": [
    {
     "data": {
      "text/plain": [
       "SVC(C=50.0, gamma=4)"
      ]
     },
     "execution_count": 182,
     "metadata": {},
     "output_type": "execute_result"
    }
   ],
   "source": [
    "svm_2_gauss = SVC(kernel='rbf', **param_2_gauss)\n",
    "svm_2_gauss.fit(X_2, np.ravel(y_2))"
   ]
  },
  {
   "cell_type": "code",
   "execution_count": 183,
   "id": "f81e1f6b",
   "metadata": {},
   "outputs": [
    {
     "name": "stdout",
     "output_type": "stream",
     "text": [
      "acuracy_gauss_geyser: 0.9234234234234234\n"
     ]
    }
   ],
   "source": [
    "y_pred = svm_2_gauss.predict(X_2)\n",
    "print('acuracy_gauss_geyser:', accuracy_score(y_2, y_pred))"
   ]
  },
  {
   "cell_type": "code",
   "execution_count": 184,
   "id": "8a7fd810",
   "metadata": {},
   "outputs": [
    {
     "data": {
      "image/png": "[encoded data removed]",
      "text/plain": [
       "<Figure size 432x288 with 1 Axes>"
      ]
     },
     "metadata": {
      "needs_background": "light"
     },
     "output_type": "display_data"
    }
   ],
   "source": [
    "plot_decision_regions(X_2, np.ravel(y_2), clf=svm_2_gauss)\n",
    "plt.legend(loc='upper left')\n",
    "plt.title(\"Gaussian_geyser\")\n",
    "plt.tight_layout()\n",
    "plt.show()"
   ]
  },
  {
   "cell_type": "code",
   "execution_count": null,
   "id": "eff7bf77",
   "metadata": {},
   "outputs": [],
   "source": []
  }
 ],
 "metadata": {
  "kernelspec": {
   "display_name": "Python 3 (ipykernel)",
   "language": "python",
   "name": "python3"
  },
  "language_info": {
   "codemirror_mode": {
    "name": "ipython",
    "version": 3
   },
   "file_extension": ".py",
   "mimetype": "text/x-python",
   "name": "python",
   "nbconvert_exporter": "python",
   "pygments_lexer": "ipython3",
   "version": "3.9.7"
  }
 },
 "nbformat": 4,
 "nbformat_minor": 5
}
