{
 "cells": [
  {
   "cell_type": "code",
   "execution_count": 1,
   "id": "d5f6886c",
   "metadata": {},
   "outputs": [
    {
     "name": "stdout",
     "output_type": "stream",
     "text": [
      "int('5') + 1;1 / 0;[0,1,2][5];'aaa'\n"
     ]
    }
   ],
   "source": [
    "st = input()\n",
    "s = st.split(';')"
   ]
  },
  {
   "cell_type": "code",
   "execution_count": 11,
   "id": "a9ad9dec",
   "metadata": {},
   "outputs": [
    {
     "ename": "FileNotFoundError",
     "evalue": "[Errno 2] No such file or directory: '/dev/null'",
     "output_type": "error",
     "traceback": [
      "\u001b[1;31m---------------------------------------------------------------------------\u001b[0m",
      "\u001b[1;31mFileNotFoundError\u001b[0m                         Traceback (most recent call last)",
      "\u001b[1;32mC:\\Users\\328F~1\\AppData\\Local\\Temp/ipykernel_3776/1247209565.py\u001b[0m in \u001b[0;36m<module>\u001b[1;34m\u001b[0m\n\u001b[1;32m----> 1\u001b[1;33m \u001b[0mf\u001b[0m \u001b[1;33m=\u001b[0m \u001b[0mopen\u001b[0m\u001b[1;33m(\u001b[0m\u001b[1;34m'/dev/null'\u001b[0m\u001b[1;33m,\u001b[0m \u001b[1;34m'x'\u001b[0m\u001b[1;33m)\u001b[0m\u001b[1;33m\u001b[0m\u001b[1;33m\u001b[0m\u001b[0m\n\u001b[0m",
      "\u001b[1;31mFileNotFoundError\u001b[0m: [Errno 2] No such file or directory: '/dev/null'"
     ]
    }
   ],
   "source": [
    "f = open('/dev/null', 'x')"
   ]
  },
  {
   "cell_type": "code",
   "execution_count": 10,
   "id": "229a5922",
   "metadata": {},
   "outputs": [
    {
     "name": "stdout",
     "output_type": "stream",
     "text": [
      "int('5') + 1;1 / 0;[0,1,2][5];'aaa'\n",
      "6\n",
      "ZeroDivisionError\n",
      "LookupError\n",
      "aaa\n"
     ]
    }
   ],
   "source": [
    "st = input()\n",
    "s = st.split(';')\n",
    "for i in range(len(s)):\n",
    "    try:\n",
    "        print(eval(s[i]))\n",
    "    except ZeroDivisionError:\n",
    "        print(\"ZeroDivisionError\")\n",
    "    except KeyError:\n",
    "        print(\"KeyError\")    \n",
    "    except FileExistsError:\n",
    "        print(\"FileExistsError\")    \n",
    "    except ArithmeticError:\n",
    "        print(\"ArithmeticError\")\n",
    "    except LookupError:\n",
    "        print(\"LookupError\")\n",
    "    except OSError:\n",
    "        print(\"OSError\")\n",
    "    except ValueError:\n",
    "        print(\"ValueError\")\n",
    "    except NameError:\n",
    "        print(\"NameError\")\n",
    "    except Exception:\n",
    "        print(\"Other exception\")"
   ]
  },
  {
   "cell_type": "code",
   "execution_count": 2,
   "id": "8dce1e54",
   "metadata": {},
   "outputs": [
    {
     "data": {
      "text/plain": [
       "[\"int('5') + 1\", '1 / 0', '[0,1,2][5]', \"'aaa'\"]"
      ]
     },
     "execution_count": 2,
     "metadata": {},
     "output_type": "execute_result"
    }
   ],
   "source": [
    "ArithmeticError\n",
    "LookupError\n",
    "OSError\n",
    "ValueError\n",
    "KeyError\n",
    "NameError\n",
    "FileExistsError\n",
    "ZeroDivisionError"
   ]
  },
  {
   "cell_type": "code",
   "execution_count": 23,
   "id": "dc9065ea",
   "metadata": {},
   "outputs": [
    {
     "data": {
      "text/plain": [
       "1"
      ]
     },
     "execution_count": 23,
     "metadata": {},
     "output_type": "execute_result"
    }
   ],
   "source": [
    "z = 0\n",
    "k = str('ttttt').find('t')\n",
    "if k != -1:\n",
    "    z = 1\n",
    "z"
   ]
  },
  {
   "cell_type": "code",
   "execution_count": 21,
   "id": "10978540",
   "metadata": {},
   "outputs": [],
   "source": [
    "k = str('ttttt').find('t')"
   ]
  },
  {
   "cell_type": "code",
   "execution_count": 22,
   "id": "6d1587da",
   "metadata": {},
   "outputs": [
    {
     "data": {
      "text/plain": [
       "0"
      ]
     },
     "execution_count": 22,
     "metadata": {},
     "output_type": "execute_result"
    }
   ],
   "source": [
    "k"
   ]
  },
  {
   "cell_type": "code",
   "execution_count": 81,
   "id": "746e5c32",
   "metadata": {},
   "outputs": [
    {
     "name": "stdout",
     "output_type": "stream",
     "text": [
      "30239110\n"
     ]
    }
   ],
   "source": [
    "import random\n",
    "\n",
    "random.seed(777)\n",
    "\n",
    "import sys\n",
    "\n",
    "from itertools import *\n",
    "\n",
    "afkh = iter(range(108, 509))\n",
    "\n",
    "ugww = iter(range(760, 540, -1))\n",
    "\n",
    "a = chain(afkh)       \n",
    "\n",
    "b = chain(ugww)\n",
    "\n",
    "         \n",
    "\n",
    "s = sum_product2zip(a, b)\n",
    "\n",
    "print(s)"
   ]
  },
  {
   "cell_type": "code",
   "execution_count": 55,
   "id": "a471bed1",
   "metadata": {},
   "outputs": [
    {
     "name": "stdout",
     "output_type": "stream",
     "text": [
      "CCGGAAGG\n"
     ]
    },
    {
     "ename": "StopIteration",
     "evalue": "",
     "output_type": "error",
     "traceback": [
      "\u001b[1;31m---------------------------------------------------------------------------\u001b[0m",
      "\u001b[1;31mStopIteration\u001b[0m                             Traceback (most recent call last)",
      "\u001b[1;32mC:\\Users\\328F~1\\AppData\\Local\\Temp/ipykernel_7560/3590365041.py\u001b[0m in \u001b[0;36m<module>\u001b[1;34m\u001b[0m\n\u001b[0;32m      3\u001b[0m \u001b[1;33m\u001b[0m\u001b[0m\n\u001b[0;32m      4\u001b[0m \u001b[1;32mwhile\u001b[0m \u001b[0mlen\u001b[0m\u001b[1;33m(\u001b[0m\u001b[0ms\u001b[0m\u001b[1;33m)\u001b[0m \u001b[1;33m<\u001b[0m \u001b[1;36m357\u001b[0m\u001b[1;33m:\u001b[0m\u001b[1;33m\u001b[0m\u001b[1;33m\u001b[0m\u001b[0m\n\u001b[1;32m----> 5\u001b[1;33m         \u001b[0ms\u001b[0m \u001b[1;33m+=\u001b[0m \u001b[0mnext\u001b[0m\u001b[1;33m(\u001b[0m\u001b[0ma\u001b[0m\u001b[1;33m)\u001b[0m\u001b[1;33m\u001b[0m\u001b[1;33m\u001b[0m\u001b[0m\n\u001b[0m\u001b[0;32m      6\u001b[0m         \u001b[0mprint\u001b[0m\u001b[1;33m(\u001b[0m\u001b[0ms\u001b[0m\u001b[1;33m)\u001b[0m\u001b[1;33m\u001b[0m\u001b[1;33m\u001b[0m\u001b[0m\n",
      "\u001b[1;31mStopIteration\u001b[0m: "
     ]
    }
   ],
   "source": [
    "a = genseq(\"ATGC\", 8)\n",
    "s = \"\"\n",
    "\n",
    "while len(s) < 357:\n",
    "        s += next(a)\n",
    "        print(s)"
   ]
  },
  {
   "cell_type": "code",
   "execution_count": 65,
   "id": "31f1ee1f",
   "metadata": {},
   "outputs": [
    {
     "name": "stdout",
     "output_type": "stream",
     "text": [
      "aabbbbbbbbbbbbbbbbbbbbbdeeeeeeeeeeeeeeee\n",
      "a2b21de16\n"
     ]
    }
   ],
   "source": [
    "s = input()\n",
    "arr = [s[0]]\n",
    "j = 1\n",
    "for i in range(1, len(s)):\n",
    "    if s[i-1] == s[i]:\n",
    "        j+=1\n",
    "    else:\n",
    "        if j != 1:\n",
    "            arr.append(repr(j))\n",
    "        arr.append(s[i])\n",
    "        j = 1\n",
    "    if i == len(s)-1 and s[i] == s[i-1]:\n",
    "        arr.append(repr(j))\n",
    "        \n",
    "\n",
    "def func(a, b):\n",
    "    return a+b\n",
    "sum = reduce(func, arr)\n",
    "print(sum)"
   ]
  },
  {
   "cell_type": "code",
   "execution_count": 54,
   "id": "2b39d9bc",
   "metadata": {},
   "outputs": [
    {
     "data": {
      "text/plain": [
       "'[5, 2]'"
      ]
     },
     "execution_count": 54,
     "metadata": {},
     "output_type": "execute_result"
    }
   ],
   "source": [
    "repr([5, 2])"
   ]
  },
  {
   "cell_type": "code",
   "execution_count": 56,
   "id": "59daf866",
   "metadata": {},
   "outputs": [],
   "source": [
    "def call_count(func):\n",
    "    global glob\n",
    "    glob = 0\n",
    "    def call(*args, **kwargs):\n",
    "        global glob\n",
    "        glob +=1\n",
    "        print(glob)\n",
    "        return_value = func(*args, **kwargs)\n",
    "        return return_value\n",
    "    return call\n"
   ]
  },
  {
   "cell_type": "code",
   "execution_count": 1,
   "id": "a0433f67",
   "metadata": {},
   "outputs": [],
   "source": [
    "def call_count(func):\n",
    "    count = 0\n",
    "    def wrapper(*args, **kwargs):\n",
    "        nonlocal count\n",
    "        count += 1\n",
    "        print(count)\n",
    "        return func(*args, **kwargs)\n",
    "    return wrapper"
   ]
  },
  {
   "cell_type": "code",
   "execution_count": 5,
   "id": "45cbc9bc",
   "metadata": {},
   "outputs": [],
   "source": [
    "import time\n",
    "def print_time(func):\n",
    "    def wrapper(*args, **kwargs):\n",
    "        t_start = time.perf_counter()\n",
    "        return_value = func(*args, **kwargs)\n",
    "        all_time = time.perf_counter() - t_start\n",
    "        print(all_time)\n",
    "        return return_value\n",
    "    return wrapper\n"
   ]
  },
  {
   "cell_type": "code",
   "execution_count": 8,
   "id": "cb8ec86e",
   "metadata": {},
   "outputs": [
    {
     "name": "stdout",
     "output_type": "stream",
     "text": [
      "6.999999868639861e-07\n",
      "0\n",
      "3.9999997625272954e-07\n",
      "2\n",
      "2.0000004496978363e-07\n",
      "6\n",
      "6.000000212225132e-07\n",
      "12\n",
      "5.999999075356754e-07\n",
      "20\n",
      "3.9999997625272954e-07\n",
      "30\n",
      "7.000001005508238e-07\n",
      "42\n",
      "4.999999418942025e-07\n",
      "56\n",
      "4.999999418942025e-07\n",
      "72\n",
      "5.000000555810402e-07\n",
      "90\n"
     ]
    }
   ],
   "source": [
    "@print_time\n",
    "\n",
    "def add(a, b):\n",
    "\n",
    "    return a + b\n",
    "\n",
    "for i in range(10):\n",
    "\n",
    "    print(add(i, i ** 2))\n",
    "\n"
   ]
  },
  {
   "cell_type": "code",
   "execution_count": 50,
   "id": "1d77754e",
   "metadata": {},
   "outputs": [
    {
     "name": "stdout",
     "output_type": "stream",
     "text": [
      "5\n",
      "8\n",
      "11\n",
      "14\n",
      "17\n",
      "20\n",
      "23\n"
     ]
    }
   ],
   "source": [
    "import time\n",
    "\n",
    "def benchmark(func):\n",
    "    def wrapper(*args, **kwargs):\n",
    "        start = time.time()\n",
    "        return_value = func(*args, **kwargs)\n",
    "        end = time.time()\n",
    "        return return_value\n",
    "    return wrapper\n",
    "\n",
    "@benchmark\n",
    "\n",
    "def add5(a):\n",
    "\n",
    "    return a + 5\n",
    "\n",
    "for i in range(20):\n",
    "\n",
    "    if i % 3 != 0:\n",
    "\n",
    "        add5(i)\n",
    "\n",
    "    else:\n",
    "\n",
    "        print(add5(i))"
   ]
  },
  {
   "cell_type": "code",
   "execution_count": 9,
   "id": "4426526e",
   "metadata": {},
   "outputs": [],
   "source": [
    "def print_count_debug(func):\n",
    "    count = 0\n",
    "    def wrapper(*args, **kwargs):\n",
    "        nonlocal count\n",
    "        count += 1\n",
    "        if DEBUG == True:\n",
    "            print(count)\n",
    "        return func(*args, **kwargs)\n",
    "    return wrapper"
   ]
  },
  {
   "cell_type": "code",
   "execution_count": 12,
   "id": "9e5ecab0",
   "metadata": {},
   "outputs": [
    {
     "name": "stdout",
     "output_type": "stream",
     "text": [
      "1\n",
      "0\n",
      "2\n",
      "2\n",
      "3\n",
      "6\n",
      "4\n",
      "12\n",
      "5\n",
      "20\n",
      "6\n",
      "30\n",
      "7\n",
      "42\n",
      "8\n",
      "56\n",
      "9\n",
      "72\n",
      "10\n",
      "90\n"
     ]
    }
   ],
   "source": [
    "DEBUG = True\n",
    "\n",
    "@print_count_debug\n",
    "\n",
    "def add(a, b):\n",
    "\n",
    "    return a + b\n",
    "\n",
    "for i in range(10):\n",
    "\n",
    "    print(add(i, i ** 2))"
   ]
  },
  {
   "cell_type": "code",
   "execution_count": 3,
   "id": "bac78543",
   "metadata": {},
   "outputs": [
    {
     "name": "stderr",
     "output_type": "stream",
     "text": [
      "C:\\Users\\328F~1\\AppData\\Local\\Temp/ipykernel_6556/3272556055.py:2: TqdmDeprecationWarning: This function will be removed in tqdm==5.0.0\n",
      "Please use `tqdm.notebook.tqdm` instead of `tqdm.tqdm_notebook`\n",
      "  for i in tqdm(range(100)):\n"
     ]
    },
    {
     "ename": "ImportError",
     "evalue": "IProgress not found. Please update jupyter and ipywidgets. See https://ipywidgets.readthedocs.io/en/stable/user_install.html",
     "output_type": "error",
     "traceback": [
      "\u001b[1;31m---------------------------------------------------------------------------\u001b[0m",
      "\u001b[1;31mImportError\u001b[0m                               Traceback (most recent call last)",
      "\u001b[1;32mC:\\Users\\328F~1\\AppData\\Local\\Temp/ipykernel_6556/3272556055.py\u001b[0m in \u001b[0;36m<module>\u001b[1;34m\u001b[0m\n\u001b[0;32m      1\u001b[0m \u001b[1;32mfrom\u001b[0m \u001b[0mtqdm\u001b[0m \u001b[1;32mimport\u001b[0m \u001b[0mtqdm_notebook\u001b[0m \u001b[1;32mas\u001b[0m \u001b[0mtqdm\u001b[0m\u001b[1;33m\u001b[0m\u001b[1;33m\u001b[0m\u001b[0m\n\u001b[1;32m----> 2\u001b[1;33m \u001b[1;32mfor\u001b[0m \u001b[0mi\u001b[0m \u001b[1;32min\u001b[0m \u001b[0mtqdm\u001b[0m\u001b[1;33m(\u001b[0m\u001b[0mrange\u001b[0m\u001b[1;33m(\u001b[0m\u001b[1;36m100\u001b[0m\u001b[1;33m)\u001b[0m\u001b[1;33m)\u001b[0m\u001b[1;33m:\u001b[0m\u001b[1;33m\u001b[0m\u001b[1;33m\u001b[0m\u001b[0m\n\u001b[0m\u001b[0;32m      3\u001b[0m     \u001b[0mprint\u001b[0m\u001b[1;33m(\u001b[0m\u001b[0mi\u001b[0m\u001b[1;33m,\u001b[0m \u001b[0mend\u001b[0m\u001b[1;33m=\u001b[0m\u001b[1;34m\"\"\u001b[0m\u001b[1;33m)\u001b[0m\u001b[1;33m\u001b[0m\u001b[1;33m\u001b[0m\u001b[0m\n",
      "\u001b[1;32m~\\AppData\\Local\\Programs\\Python\\Python39\\lib\\site-packages\\tqdm\\__init__.py\u001b[0m in \u001b[0;36mtqdm_notebook\u001b[1;34m(*args, **kwargs)\u001b[0m\n\u001b[0;32m     26\u001b[0m          \u001b[1;34m\"Please use `tqdm.notebook.tqdm` instead of `tqdm.tqdm_notebook`\"\u001b[0m\u001b[1;33m,\u001b[0m\u001b[1;33m\u001b[0m\u001b[1;33m\u001b[0m\u001b[0m\n\u001b[0;32m     27\u001b[0m          TqdmDeprecationWarning, stacklevel=2)\n\u001b[1;32m---> 28\u001b[1;33m     \u001b[1;32mreturn\u001b[0m \u001b[0m_tqdm_notebook\u001b[0m\u001b[1;33m(\u001b[0m\u001b[1;33m*\u001b[0m\u001b[0margs\u001b[0m\u001b[1;33m,\u001b[0m \u001b[1;33m**\u001b[0m\u001b[0mkwargs\u001b[0m\u001b[1;33m)\u001b[0m\u001b[1;33m\u001b[0m\u001b[1;33m\u001b[0m\u001b[0m\n\u001b[0m\u001b[0;32m     29\u001b[0m \u001b[1;33m\u001b[0m\u001b[0m\n\u001b[0;32m     30\u001b[0m \u001b[1;33m\u001b[0m\u001b[0m\n",
      "\u001b[1;32m~\\AppData\\Local\\Programs\\Python\\Python39\\lib\\site-packages\\tqdm\\notebook.py\u001b[0m in \u001b[0;36m__init__\u001b[1;34m(self, *args, **kwargs)\u001b[0m\n\u001b[0;32m    240\u001b[0m         \u001b[0munit_scale\u001b[0m \u001b[1;33m=\u001b[0m \u001b[1;36m1\u001b[0m \u001b[1;32mif\u001b[0m \u001b[0mself\u001b[0m\u001b[1;33m.\u001b[0m\u001b[0munit_scale\u001b[0m \u001b[1;32mis\u001b[0m \u001b[1;32mTrue\u001b[0m \u001b[1;32melse\u001b[0m \u001b[0mself\u001b[0m\u001b[1;33m.\u001b[0m\u001b[0munit_scale\u001b[0m \u001b[1;32mor\u001b[0m \u001b[1;36m1\u001b[0m\u001b[1;33m\u001b[0m\u001b[1;33m\u001b[0m\u001b[0m\n\u001b[0;32m    241\u001b[0m         \u001b[0mtotal\u001b[0m \u001b[1;33m=\u001b[0m \u001b[0mself\u001b[0m\u001b[1;33m.\u001b[0m\u001b[0mtotal\u001b[0m \u001b[1;33m*\u001b[0m \u001b[0munit_scale\u001b[0m \u001b[1;32mif\u001b[0m \u001b[0mself\u001b[0m\u001b[1;33m.\u001b[0m\u001b[0mtotal\u001b[0m \u001b[1;32melse\u001b[0m \u001b[0mself\u001b[0m\u001b[1;33m.\u001b[0m\u001b[0mtotal\u001b[0m\u001b[1;33m\u001b[0m\u001b[1;33m\u001b[0m\u001b[0m\n\u001b[1;32m--> 242\u001b[1;33m         \u001b[0mself\u001b[0m\u001b[1;33m.\u001b[0m\u001b[0mcontainer\u001b[0m \u001b[1;33m=\u001b[0m \u001b[0mself\u001b[0m\u001b[1;33m.\u001b[0m\u001b[0mstatus_printer\u001b[0m\u001b[1;33m(\u001b[0m\u001b[0mself\u001b[0m\u001b[1;33m.\u001b[0m\u001b[0mfp\u001b[0m\u001b[1;33m,\u001b[0m \u001b[0mtotal\u001b[0m\u001b[1;33m,\u001b[0m \u001b[0mself\u001b[0m\u001b[1;33m.\u001b[0m\u001b[0mdesc\u001b[0m\u001b[1;33m,\u001b[0m \u001b[0mself\u001b[0m\u001b[1;33m.\u001b[0m\u001b[0mncols\u001b[0m\u001b[1;33m)\u001b[0m\u001b[1;33m\u001b[0m\u001b[1;33m\u001b[0m\u001b[0m\n\u001b[0m\u001b[0;32m    243\u001b[0m         \u001b[0mself\u001b[0m\u001b[1;33m.\u001b[0m\u001b[0mcontainer\u001b[0m\u001b[1;33m.\u001b[0m\u001b[0mpbar\u001b[0m \u001b[1;33m=\u001b[0m \u001b[0mproxy\u001b[0m\u001b[1;33m(\u001b[0m\u001b[0mself\u001b[0m\u001b[1;33m)\u001b[0m\u001b[1;33m\u001b[0m\u001b[1;33m\u001b[0m\u001b[0m\n\u001b[0;32m    244\u001b[0m         \u001b[0mself\u001b[0m\u001b[1;33m.\u001b[0m\u001b[0mdisplayed\u001b[0m \u001b[1;33m=\u001b[0m \u001b[1;32mFalse\u001b[0m\u001b[1;33m\u001b[0m\u001b[1;33m\u001b[0m\u001b[0m\n",
      "\u001b[1;32m~\\AppData\\Local\\Programs\\Python\\Python39\\lib\\site-packages\\tqdm\\notebook.py\u001b[0m in \u001b[0;36mstatus_printer\u001b[1;34m(_, total, desc, ncols)\u001b[0m\n\u001b[0;32m    113\u001b[0m         \u001b[1;31m# Prepare IPython progress bar\u001b[0m\u001b[1;33m\u001b[0m\u001b[1;33m\u001b[0m\u001b[0m\n\u001b[0;32m    114\u001b[0m         \u001b[1;32mif\u001b[0m \u001b[0mIProgress\u001b[0m \u001b[1;32mis\u001b[0m \u001b[1;32mNone\u001b[0m\u001b[1;33m:\u001b[0m  \u001b[1;31m# #187 #451 #558 #872\u001b[0m\u001b[1;33m\u001b[0m\u001b[1;33m\u001b[0m\u001b[0m\n\u001b[1;32m--> 115\u001b[1;33m             raise ImportError(\n\u001b[0m\u001b[0;32m    116\u001b[0m                 \u001b[1;34m\"IProgress not found. Please update jupyter and ipywidgets.\"\u001b[0m\u001b[1;33m\u001b[0m\u001b[1;33m\u001b[0m\u001b[0m\n\u001b[0;32m    117\u001b[0m                 \u001b[1;34m\" See https://ipywidgets.readthedocs.io/en/stable\"\u001b[0m\u001b[1;33m\u001b[0m\u001b[1;33m\u001b[0m\u001b[0m\n",
      "\u001b[1;31mImportError\u001b[0m: IProgress not found. Please update jupyter and ipywidgets. See https://ipywidgets.readthedocs.io/en/stable/user_install.html"
     ]
    }
   ],
   "source": [
    "from tqdm import tqdm_notebook as tqdm\n",
    "for i in tqdm(range(100)):\n",
    "    print(i, end=\"\")"
   ]
  },
  {
   "cell_type": "code",
   "execution_count": 6,
   "id": "08549a15",
   "metadata": {},
   "outputs": [
    {
     "name": "stdout",
     "output_type": "stream",
     "text": [
      "Collecting jupyter_nbextensions_configurator\n",
      "  Downloading jupyter_nbextensions_configurator-0.4.1.tar.gz (479 kB)\n",
      "Collecting jupyter_contrib_nbextensions\n",
      "  Downloading jupyter_contrib_nbextensions-0.5.1-py2.py3-none-any.whl (20.9 MB)\n",
      "Collecting jupyter_contrib_core>=0.3.3\n",
      "  Downloading jupyter_contrib_core-0.3.3-py2.py3-none-any.whl (18 kB)\n",
      "Requirement already satisfied: jupyter_core in c:\\users\\артем\\appdata\\local\\programs\\python\\python39\\lib\\site-packages (from jupyter_nbextensions_configurator) (4.8.1)\n",
      "Requirement already satisfied: notebook>=4.0 in c:\\users\\артем\\appdata\\local\\programs\\python\\python39\\lib\\site-packages (from jupyter_nbextensions_configurator) (6.4.4)\n",
      "Collecting pyyaml\n",
      "  Downloading PyYAML-5.4.1-cp39-cp39-win_amd64.whl (213 kB)\n",
      "Requirement already satisfied: tornado in c:\\users\\артем\\appdata\\local\\programs\\python\\python39\\lib\\site-packages (from jupyter_nbextensions_configurator) (6.1)\n",
      "Requirement already satisfied: traitlets in c:\\users\\артем\\appdata\\local\\programs\\python\\python39\\lib\\site-packages (from jupyter_nbextensions_configurator) (5.1.0)\n",
      "Collecting jupyter-highlight-selected-word>=0.1.1\n",
      "  Downloading jupyter_highlight_selected_word-0.2.0-py2.py3-none-any.whl (11 kB)\n",
      "Collecting jupyter-latex-envs>=1.3.8\n",
      "  Downloading jupyter_latex_envs-1.4.6.tar.gz (861 kB)\n",
      "Collecting lxml\n",
      "  Downloading lxml-4.6.3-cp39-cp39-win_amd64.whl (3.5 MB)\n",
      "Requirement already satisfied: ipython-genutils in c:\\users\\артем\\appdata\\local\\programs\\python\\python39\\lib\\site-packages (from jupyter_contrib_nbextensions) (0.2.0)\n",
      "Requirement already satisfied: nbconvert>=4.2 in c:\\users\\артем\\appdata\\local\\programs\\python\\python39\\lib\\site-packages (from jupyter_contrib_nbextensions) (6.1.0)\n",
      "Requirement already satisfied: setuptools in c:\\users\\артем\\appdata\\local\\programs\\python\\python39\\lib\\site-packages (from jupyter_contrib_core>=0.3.3->jupyter_nbextensions_configurator) (57.4.0)\n",
      "Requirement already satisfied: ipython in c:\\users\\артем\\appdata\\local\\programs\\python\\python39\\lib\\site-packages (from jupyter-latex-envs>=1.3.8->jupyter_contrib_nbextensions) (7.27.0)\n",
      "Requirement already satisfied: jupyterlab-pygments in c:\\users\\артем\\appdata\\local\\programs\\python\\python39\\lib\\site-packages (from nbconvert>=4.2->jupyter_contrib_nbextensions) (0.1.2)\n",
      "Requirement already satisfied: mistune<2,>=0.8.1 in c:\\users\\артем\\appdata\\local\\programs\\python\\python39\\lib\\site-packages (from nbconvert>=4.2->jupyter_contrib_nbextensions) (0.8.4)\n",
      "Requirement already satisfied: jinja2>=2.4 in c:\\users\\артем\\appdata\\local\\programs\\python\\python39\\lib\\site-packages (from nbconvert>=4.2->jupyter_contrib_nbextensions) (3.0.1)\n",
      "Requirement already satisfied: bleach in c:\\users\\артем\\appdata\\local\\programs\\python\\python39\\lib\\site-packages (from nbconvert>=4.2->jupyter_contrib_nbextensions) (4.1.0)\n",
      "Requirement already satisfied: defusedxml in c:\\users\\артем\\appdata\\local\\programs\\python\\python39\\lib\\site-packages (from nbconvert>=4.2->jupyter_contrib_nbextensions) (0.7.1)\n",
      "Requirement already satisfied: testpath in c:\\users\\артем\\appdata\\local\\programs\\python\\python39\\lib\\site-packages (from nbconvert>=4.2->jupyter_contrib_nbextensions) (0.5.0)\n",
      "Requirement already satisfied: nbformat>=4.4 in c:\\users\\артем\\appdata\\local\\programs\\python\\python39\\lib\\site-packages (from nbconvert>=4.2->jupyter_contrib_nbextensions) (5.1.3)\n",
      "Requirement already satisfied: nbclient<0.6.0,>=0.5.0 in c:\\users\\артем\\appdata\\local\\programs\\python\\python39\\lib\\site-packages (from nbconvert>=4.2->jupyter_contrib_nbextensions) (0.5.4)\n",
      "Requirement already satisfied: entrypoints>=0.2.2 in c:\\users\\артем\\appdata\\local\\programs\\python\\python39\\lib\\site-packages (from nbconvert>=4.2->jupyter_contrib_nbextensions) (0.3)\n",
      "Requirement already satisfied: pygments>=2.4.1 in c:\\users\\артем\\appdata\\local\\programs\\python\\python39\\lib\\site-packages (from nbconvert>=4.2->jupyter_contrib_nbextensions) (2.10.0)\n",
      "Requirement already satisfied: pandocfilters>=1.4.1 in c:\\users\\артем\\appdata\\local\\programs\\python\\python39\\lib\\site-packages (from nbconvert>=4.2->jupyter_contrib_nbextensions) (1.5.0)\n",
      "Requirement already satisfied: MarkupSafe>=2.0 in c:\\users\\артем\\appdata\\local\\programs\\python\\python39\\lib\\site-packages (from jinja2>=2.4->nbconvert>=4.2->jupyter_contrib_nbextensions) (2.0.1)\n",
      "Requirement already satisfied: jupyter-client>=6.1.5 in c:\\users\\артем\\appdata\\local\\programs\\python\\python39\\lib\\site-packages (from nbclient<0.6.0,>=0.5.0->nbconvert>=4.2->jupyter_contrib_nbextensions) (7.0.3)\n",
      "Requirement already satisfied: nest-asyncio in c:\\users\\артем\\appdata\\local\\programs\\python\\python39\\lib\\site-packages (from nbclient<0.6.0,>=0.5.0->nbconvert>=4.2->jupyter_contrib_nbextensions) (1.5.1)\n",
      "Requirement already satisfied: python-dateutil>=2.1 in c:\\users\\артем\\appdata\\local\\programs\\python\\python39\\lib\\site-packages (from jupyter-client>=6.1.5->nbclient<0.6.0,>=0.5.0->nbconvert>=4.2->jupyter_contrib_nbextensions) (2.8.2)\n",
      "Requirement already satisfied: pyzmq>=13 in c:\\users\\артем\\appdata\\local\\programs\\python\\python39\\lib\\site-packages (from jupyter-client>=6.1.5->nbclient<0.6.0,>=0.5.0->nbconvert>=4.2->jupyter_contrib_nbextensions) (22.3.0)\n",
      "Requirement already satisfied: pywin32>=1.0 in c:\\users\\артем\\appdata\\local\\programs\\python\\python39\\lib\\site-packages (from jupyter_core->jupyter_nbextensions_configurator) (301)\n",
      "Requirement already satisfied: jsonschema!=2.5.0,>=2.4 in c:\\users\\артем\\appdata\\local\\programs\\python\\python39\\lib\\site-packages (from nbformat>=4.4->nbconvert>=4.2->jupyter_contrib_nbextensions) (3.2.0)\n",
      "Requirement already satisfied: six>=1.11.0 in c:\\users\\артем\\appdata\\local\\programs\\python\\python39\\lib\\site-packages (from jsonschema!=2.5.0,>=2.4->nbformat>=4.4->nbconvert>=4.2->jupyter_contrib_nbextensions) (1.16.0)\n",
      "Requirement already satisfied: pyrsistent>=0.14.0 in c:\\users\\артем\\appdata\\local\\programs\\python\\python39\\lib\\site-packages (from jsonschema!=2.5.0,>=2.4->nbformat>=4.4->nbconvert>=4.2->jupyter_contrib_nbextensions) (0.18.0)\n",
      "Requirement already satisfied: attrs>=17.4.0 in c:\\users\\артем\\appdata\\local\\programs\\python\\python39\\lib\\site-packages (from jsonschema!=2.5.0,>=2.4->nbformat>=4.4->nbconvert>=4.2->jupyter_contrib_nbextensions) (21.2.0)\n",
      "Requirement already satisfied: Send2Trash>=1.5.0 in c:\\users\\артем\\appdata\\local\\programs\\python\\python39\\lib\\site-packages (from notebook>=4.0->jupyter_nbextensions_configurator) (1.8.0)\n",
      "Requirement already satisfied: argon2-cffi in c:\\users\\артем\\appdata\\local\\programs\\python\\python39\\lib\\site-packages (from notebook>=4.0->jupyter_nbextensions_configurator) (21.1.0)\n",
      "Requirement already satisfied: ipykernel in c:\\users\\артем\\appdata\\local\\programs\\python\\python39\\lib\\site-packages (from notebook>=4.0->jupyter_nbextensions_configurator) (6.4.1)\n",
      "Requirement already satisfied: prometheus-client in c:\\users\\артем\\appdata\\local\\programs\\python\\python39\\lib\\site-packages (from notebook>=4.0->jupyter_nbextensions_configurator) (0.11.0)\n",
      "Requirement already satisfied: terminado>=0.8.3 in c:\\users\\артем\\appdata\\local\\programs\\python\\python39\\lib\\site-packages (from notebook>=4.0->jupyter_nbextensions_configurator) (0.12.1)\n",
      "Requirement already satisfied: pywinpty>=1.1.0 in c:\\users\\артем\\appdata\\local\\programs\\python\\python39\\lib\\site-packages (from terminado>=0.8.3->notebook>=4.0->jupyter_nbextensions_configurator) (1.1.4)\n",
      "Requirement already satisfied: cffi>=1.0.0 in c:\\users\\артем\\appdata\\local\\programs\\python\\python39\\lib\\site-packages (from argon2-cffi->notebook>=4.0->jupyter_nbextensions_configurator) (1.14.6)\n",
      "Requirement already satisfied: pycparser in c:\\users\\артем\\appdata\\local\\programs\\python\\python39\\lib\\site-packages (from cffi>=1.0.0->argon2-cffi->notebook>=4.0->jupyter_nbextensions_configurator) (2.20)\n",
      "Requirement already satisfied: webencodings in c:\\users\\артем\\appdata\\local\\programs\\python\\python39\\lib\\site-packages (from bleach->nbconvert>=4.2->jupyter_contrib_nbextensions) (0.5.1)\n",
      "Requirement already satisfied: packaging in c:\\users\\артем\\appdata\\local\\programs\\python\\python39\\lib\\site-packages (from bleach->nbconvert>=4.2->jupyter_contrib_nbextensions) (21.0)\n",
      "Requirement already satisfied: debugpy<2.0,>=1.0.0 in c:\\users\\артем\\appdata\\local\\programs\\python\\python39\\lib\\site-packages (from ipykernel->notebook>=4.0->jupyter_nbextensions_configurator) (1.4.3)\n",
      "Requirement already satisfied: matplotlib-inline<0.2.0,>=0.1.0 in c:\\users\\артем\\appdata\\local\\programs\\python\\python39\\lib\\site-packages (from ipykernel->notebook>=4.0->jupyter_nbextensions_configurator) (0.1.3)\n",
      "Requirement already satisfied: decorator in c:\\users\\артем\\appdata\\local\\programs\\python\\python39\\lib\\site-packages (from ipython->jupyter-latex-envs>=1.3.8->jupyter_contrib_nbextensions) (5.1.0)\n",
      "Requirement already satisfied: jedi>=0.16 in c:\\users\\артем\\appdata\\local\\programs\\python\\python39\\lib\\site-packages (from ipython->jupyter-latex-envs>=1.3.8->jupyter_contrib_nbextensions) (0.18.0)\n",
      "Requirement already satisfied: prompt-toolkit!=3.0.0,!=3.0.1,<3.1.0,>=2.0.0 in c:\\users\\артем\\appdata\\local\\programs\\python\\python39\\lib\\site-packages (from ipython->jupyter-latex-envs>=1.3.8->jupyter_contrib_nbextensions) (3.0.20)\n",
      "Requirement already satisfied: pickleshare in c:\\users\\артем\\appdata\\local\\programs\\python\\python39\\lib\\site-packages (from ipython->jupyter-latex-envs>=1.3.8->jupyter_contrib_nbextensions) (0.7.5)\n",
      "Requirement already satisfied: colorama in c:\\users\\артем\\appdata\\local\\programs\\python\\python39\\lib\\site-packages (from ipython->jupyter-latex-envs>=1.3.8->jupyter_contrib_nbextensions) (0.4.4)\n",
      "Requirement already satisfied: backcall in c:\\users\\артем\\appdata\\local\\programs\\python\\python39\\lib\\site-packages (from ipython->jupyter-latex-envs>=1.3.8->jupyter_contrib_nbextensions) (0.2.0)\n",
      "Requirement already satisfied: parso<0.9.0,>=0.8.0 in c:\\users\\артем\\appdata\\local\\programs\\python\\python39\\lib\\site-packages (from jedi>=0.16->ipython->jupyter-latex-envs>=1.3.8->jupyter_contrib_nbextensions) (0.8.2)\n",
      "Requirement already satisfied: wcwidth in c:\\users\\артем\\appdata\\local\\programs\\python\\python39\\lib\\site-packages (from prompt-toolkit!=3.0.0,!=3.0.1,<3.1.0,>=2.0.0->ipython->jupyter-latex-envs>=1.3.8->jupyter_contrib_nbextensions) (0.2.5)\n",
      "Requirement already satisfied: pyparsing>=2.0.2 in c:\\users\\артем\\appdata\\local\\programs\\python\\python39\\lib\\site-packages (from packaging->bleach->nbconvert>=4.2->jupyter_contrib_nbextensions) (2.4.7)\n",
      "Building wheels for collected packages: jupyter-nbextensions-configurator, jupyter-latex-envs\n",
      "  Building wheel for jupyter-nbextensions-configurator (setup.py): started\n",
      "  Building wheel for jupyter-nbextensions-configurator (setup.py): finished with status 'done'\n",
      "  Created wheel for jupyter-nbextensions-configurator: filename=jupyter_nbextensions_configurator-0.4.1-py2.py3-none-any.whl size=465842 sha256=e86206eb9c49bfdbcc2cd1e098931c40c771a3e3f1b7cb37c8c10c2e17cc22d3\n",
      "  Stored in directory: c:\\users\\артем\\appdata\\local\\pip\\cache\\wheels\\94\\62\\cd\\233da8580d4e1228ab3fbede758ab1b97174bf9d9cea095049\n",
      "  Building wheel for jupyter-latex-envs (setup.py): started\n",
      "  Building wheel for jupyter-latex-envs (setup.py): finished with status 'done'\n",
      "  Created wheel for jupyter-latex-envs: filename=jupyter_latex_envs-1.4.6-py2.py3-none-any.whl size=963415 sha256=f547f8da93bad46c81b4b2fc0f179af312e94bcaf5c740d86d88433c5e5e2c6d\n",
      "  Stored in directory: c:\\users\\артем\\appdata\\local\\pip\\cache\\wheels\\f7\\b5\\78\\f5b899dd8fc137fe0bfe26b382713f6d171c9eac2fb1fa091f\n",
      "Successfully built jupyter-nbextensions-configurator jupyter-latex-envs\n",
      "Note: you may need to restart the kernel to use updated packages.Installing collected packages: pyyaml, jupyter-contrib-core, lxml, jupyter-nbextensions-configurator, jupyter-latex-envs, jupyter-highlight-selected-word, jupyter-contrib-nbextensions\n",
      "Successfully installed jupyter-contrib-core-0.3.3 jupyter-contrib-nbextensions-0.5.1 jupyter-highlight-selected-word-0.2.0 jupyter-latex-envs-1.4.6 jupyter-nbextensions-configurator-0.4.1 lxml-4.6.3 pyyaml-5.4.1\n",
      "\n"
     ]
    },
    {
     "name": "stderr",
     "output_type": "stream",
     "text": [
      "WARNING: You are using pip version 21.2.3; however, version 21.2.4 is available.\n",
      "You should consider upgrading via the 'C:\\Users\\Артем\\AppData\\Local\\Programs\\Python\\Python39\\python.exe -m pip install --upgrade pip' command.\n"
     ]
    }
   ],
   "source": [
    "pip install jupyter_nbextensions_configurator jupyter_contrib_nbextensions"
   ]
  },
  {
   "cell_type": "code",
   "execution_count": 13,
   "id": "99afa623",
   "metadata": {},
   "outputs": [],
   "source": [
    "import numpy as np\n",
    "import pandas as pd\n",
    "import matplotlib.pyplot as plt\n",
    "data_1 = pd.read_csv('chips.csv')\n",
    "X_1 = data_1.iloc[:,:-1].values\n",
    "y_1 = data_1.iloc[:,-1:].values\n",
    "y_1 = np.where( y_1=='P', 1, -1)\n",
    "from sklearn.svm import SVC\n",
    "from sklearn.model_selection import GridSearchCV\n",
    "param_grid = {'C': np.array([0.05,0.1,0.5,1.0,5.0,10.0,50.0,100.0])}\n",
    "svm = SVC(kernel='linear')\n",
    "clf = GridSearchCV(svm, param_grid, n_jobs=16)\n",
    "clf.fit(X_1, np.ravel(y_1))\n",
    "param_1_linear = clf.best_params_\n",
    "from sklearn.preprocessing import StandardScaler\n",
    "scaler = StandardScaler()\n",
    "X_1 = scaler.fit_transform(X_1)"
   ]
  },
  {
   "cell_type": "code",
   "execution_count": 14,
   "id": "7fe952c3",
   "metadata": {},
   "outputs": [
    {
     "name": "stdout",
     "output_type": "stream",
     "text": [
      "acuracy_linear_chips: 0.5084745762711864\n"
     ]
    }
   ],
   "source": [
    "from mlxtend.plotting import plot_decision_regions\n",
    "svm_1_linear = SVC(kernel='linear', **param_1_linear)\n",
    "svm_1_linear.fit(X_1, np.ravel(y_1))\n",
    "y_pred = svm_1_linear.predict(X_1)\n",
    "print('acuracy_linear_chips:', accuracy_score(y_1, y_pred))"
   ]
  },
  {
   "cell_type": "code",
   "execution_count": 15,
   "id": "3f169f82",
   "metadata": {},
   "outputs": [
    {
     "data": {
      "image/png": "[encoded data removed]",
      "text/plain": [
       "<Figure size 432x288 with 1 Axes>"
      ]
     },
     "metadata": {
      "needs_background": "light"
     },
     "output_type": "display_data"
    }
   ],
   "source": [
    "plot_decision_regions(X_1, np.ravel(y_1), clf=svm_1_linear)\n",
    "plt.legend(loc='upper left')\n",
    "plt.tight_layout()\n",
    "plt.title(\"Linear_chips\")\n",
    "plt.show()"
   ]
  },
  {
   "cell_type": "code",
   "execution_count": 6,
   "id": "ef0bc361",
   "metadata": {},
   "outputs": [
    {
     "name": "stderr",
     "output_type": "stream",
     "text": [
      "100%|██████████████████████████████████████████████████████████████████████████████████| 10/10 [00:10<00:00,  1.01s/it]"
     ]
    },
    {
     "name": "stdout",
     "output_type": "stream",
     "text": [
      "10\n"
     ]
    },
    {
     "name": "stderr",
     "output_type": "stream",
     "text": [
      "\n"
     ]
    }
   ],
   "source": [
    "import time\n",
    "from tqdm import tqdm\n",
    "x = 0\n",
    "\n",
    "for i in tqdm(range(10)):\n",
    "    time.sleep(1)\n",
    "    x+=1\n",
    "print(x)"
   ]
  }
 ],
 "metadata": {
  "kernelspec": {
   "display_name": "Python 3 (ipykernel)",
   "language": "python",
   "name": "python3"
  },
  "language_info": {
   "codemirror_mode": {
    "name": "ipython",
    "version": 3
   },
   "file_extension": ".py",
   "mimetype": "text/x-python",
   "name": "python",
   "nbconvert_exporter": "python",
   "pygments_lexer": "ipython3",
   "version": "3.9.7"
  }
 },
 "nbformat": 4,
 "nbformat_minor": 5
}
