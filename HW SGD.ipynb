{
 "cells": [
  {
   "cell_type": "code",
   "execution_count": 64,
   "metadata": {},
   "outputs": [],
   "source": [
    "import numpy as np\n",
    "import pandas as pd\n",
    "import matplotlib.pyplot as plt"
   ]
  },
  {
   "cell_type": "code",
   "execution_count": 65,
   "metadata": {},
   "outputs": [],
   "source": [
    "file = open('LR/1.txt')\n",
    "line = [line.strip() for line in file]\n",
    "file.close()"
   ]
  },
  {
   "cell_type": "code",
   "execution_count": 66,
   "metadata": {},
   "outputs": [],
   "source": [
    "num_of_features = int(line[0])\n",
    "num_of_train = int(line[1])\n",
    "num_of_test = int(line[num_of_train + 2])"
   ]
  },
  {
   "cell_type": "code",
   "execution_count": 67,
   "metadata": {},
   "outputs": [],
   "source": [
    "data_train = pd.read_table('LR/1.txt', sep='\\s+', skiprows = 2, header=None, nrows = num_of_train)\n",
    "data_test = pd.read_table('LR/1.txt', sep='\\s+', skiprows = 3 + num_of_train, header=None)"
   ]
  },
  {
   "cell_type": "code",
   "execution_count": 68,
   "metadata": {},
   "outputs": [],
   "source": [
    "X_test = data_test.iloc[:,:-1].values\n",
    "X_train = data_train.iloc[:,:-1].values\n",
    "y_train = data_train.iloc[:,-1:].values\n",
    "y_test = data_test.iloc[:,-1:].values"
   ]
  },
  {
   "cell_type": "code",
   "execution_count": 69,
   "metadata": {},
   "outputs": [],
   "source": [
    "from sklearn.linear_model import SGDRegressor\n",
    "from sklearn.metrics import mean_squared_error\n",
    "from sklearn.preprocessing import StandardScaler"
   ]
  },
  {
   "cell_type": "code",
   "execution_count": 70,
   "metadata": {},
   "outputs": [],
   "source": [
    "scaler = StandardScaler()\n",
    "X_train_std = scaler.fit_transform(X_train)\n",
    "y_train_std = scaler.fit_transform(y_train)\n",
    "X_test_std = scaler.fit_transform(X_test)\n",
    "y_test_std = scaler.fit_transform(y_test)"
   ]
  },
  {
   "cell_type": "code",
   "execution_count": 71,
   "metadata": {},
   "outputs": [],
   "source": [
    "y_train_var = np.max(y_train_std)-np.min(y_train_std)\n",
    "y_test_var = np.max(y_test_std)-np.min(y_test_std)"
   ]
  },
  {
   "cell_type": "code",
   "execution_count": 72,
   "metadata": {},
   "outputs": [],
   "source": [
    "sgd = SGDRegressor(penalty='elasticnet', alpha=0.0001)"
   ]
  },
  {
   "cell_type": "code",
   "execution_count": 73,
   "metadata": {},
   "outputs": [],
   "source": [
    "num_iter = 100\n",
    "NRMSE_train = np.array([])\n",
    "NRMSE_test = np.array([])\n",
    "for i in range(num_iter):\n",
    "    sgd.partial_fit(X_train_std, y_train_std.flatten())\n",
    "    y_pred_train = sgd.predict(X_train_std)\n",
    "    y_pred_test = sgd.predict(X_test_std)\n",
    "    mse_train = mean_squared_error(y_pred_train, y_train_std)\n",
    "    NRMSE_train = np.append(NRMSE_train, np.sqrt(mse_train)/y_train_var)\n",
    "    mse_test = mean_squared_error(y_pred_test, y_test_std)\n",
    "    NRMSE_test = np.append(NRMSE_test, np.sqrt(mse_test)/y_test_var)"
   ]
  },
  {
   "cell_type": "code",
   "execution_count": 74,
   "metadata": {},
   "outputs": [
    {
     "data": {
      "text/plain": [
       "<function matplotlib.pyplot.show(close=None, block=None)>"
      ]
     },
     "execution_count": 74,
     "metadata": {},
     "output_type": "execute_result"
    },
    {
     "data": {
      "image/png": "[encoded data removed]",
      "text/plain": [
       "<Figure size 432x288 with 1 Axes>"
      ]
     },
     "metadata": {
      "needs_background": "light"
     },
     "output_type": "display_data"
    }
   ],
   "source": [
    "plt.plot(range(1, num_iter+1), NRMSE_train)\n",
    "#plt.ylim(-0.01, 0.001)\n",
    "plt.ylabel('NRMSE')\n",
    "plt.xlabel(\"Эпоха\")\n",
    "plt.show"
   ]
  },
  {
   "cell_type": "code",
   "execution_count": 75,
   "metadata": {},
   "outputs": [
    {
     "data": {
      "text/plain": [
       "<function matplotlib.pyplot.show(close=None, block=None)>"
      ]
     },
     "execution_count": 75,
     "metadata": {},
     "output_type": "execute_result"
    },
    {
     "data": {
      "image/png": "[encoded data removed]",
      "text/plain": [
       "<Figure size 432x288 with 1 Axes>"
      ]
     },
     "metadata": {
      "needs_background": "light"
     },
     "output_type": "display_data"
    }
   ],
   "source": [
    "plt.plot(range(1, num_iter+1), NRMSE_test)\n",
    "plt.ylabel('NRMSE')\n",
    "plt.xlabel(\"Эпоха\")\n",
    "plt.show"
   ]
  },
  {
   "cell_type": "code",
   "execution_count": 76,
   "metadata": {},
   "outputs": [],
   "source": [
    "sgd.fit(X_train_std, y_train_std.flatten())\n",
    "y_pred_train = sgd.predict(X_train_std)\n",
    "y_pred_test = sgd.predict(X_test_std)\n",
    "nrmse_train = np.sqrt(mean_squared_error(y_pred_train, y_train_std))/y_train_var\n",
    "nrmse_test = np.sqrt(mean_squared_error(y_pred_test, y_test_std))/y_test_var"
   ]
  },
  {
   "cell_type": "code",
   "execution_count": 77,
   "metadata": {},
   "outputs": [
    {
     "name": "stdout",
     "output_type": "stream",
     "text": [
      "NRMSE for train: 8.649113054104573e-05 , NRMSE for test: 0.0009896951556976309\n"
     ]
    }
   ],
   "source": [
    "print('NRMSE for train:', nrmse_train, ', NRMSE for test:', nrmse_test)"
   ]
  },
  {
   "cell_type": "code",
   "execution_count": null,
   "metadata": {},
   "outputs": [],
   "source": []
  }
 ],
 "metadata": {
  "kernelspec": {
   "display_name": "Python 3 (ipykernel)",
   "language": "python",
   "name": "python3"
  },
  "language_info": {
   "codemirror_mode": {
    "name": "ipython",
    "version": 3
   },
   "file_extension": ".py",
   "mimetype": "text/x-python",
   "name": "python",
   "nbconvert_exporter": "python",
   "pygments_lexer": "ipython3",
   "version": "3.9.7"
  }
 },
 "nbformat": 4,
 "nbformat_minor": 4
}
